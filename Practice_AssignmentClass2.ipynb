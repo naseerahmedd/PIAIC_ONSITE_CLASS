{
 "cells": [
  {
   "cell_type": "markdown",
   "metadata": {},
   "source": [
    "# Topic: print()"
   ]
  },
  {
   "cell_type": "markdown",
   "metadata": {},
   "source": [
    "1) Using the python print function print any string value, integer value, boolean value, float value in single print command"
   ]
  },
  {
   "cell_type": "code",
   "execution_count": 2,
   "metadata": {},
   "outputs": [
    {
     "name": "stdout",
     "output_type": "stream",
     "text": [
      "Student Name is Areeb, his age 10, Total Marks 85.5 and this is all True\n"
     ]
    }
   ],
   "source": [
    "# type your code here\n",
    "name = \"Areeb\"\n",
    "age = 10\n",
    "Marks = 85.5\n",
    "boolean = True\n",
    "print(f\"Student Name is {name}, his age {age}, Total Marks {Marks} and this is all {boolean}\")"
   ]
  },
  {
   "cell_type": "markdown",
   "metadata": {},
   "source": [
    "2) Using the python print function print hyphon(-) separated any string value, integer value, boolean value, float value in single print command"
   ]
  },
  {
   "cell_type": "code",
   "execution_count": 6,
   "metadata": {},
   "outputs": [
    {
     "name": "stdout",
     "output_type": "stream",
     "text": [
      "Student Name is Areeb-his age 10-Total Marks 85.5-this is all True\n"
     ]
    }
   ],
   "source": [
    "# type your code here\n",
    "name = \"Areeb\"\n",
    "age = 10\n",
    "Marks = 85.5\n",
    "boolean = True\n",
    "print(\"Student Name is \" + name, \"his age \" + str (age), \"Total Marks \" + str (Marks),\"this is all \" + str (boolean), sep= \"-\")\n"
   ]
  },
  {
   "cell_type": "markdown",
   "metadata": {},
   "source": [
    "3) Using the python print function print any string value, integer value, boolean value, float value in separate print command.\n",
    "But every value must be space separated and in single line "
   ]
  },
  {
   "cell_type": "code",
   "execution_count": 7,
   "metadata": {},
   "outputs": [
    {
     "name": "stdout",
     "output_type": "stream",
     "text": [
      "Hi Areeb 10 555.5 True\n"
     ]
    }
   ],
   "source": [
    "# type your code here\n",
    "print(\"Hi Areeb\", end=\" \")\n",
    "print(10, end=\" \")\n",
    "print(555.5, end=\" \")\n",
    "print(True)\n",
    "\n"
   ]
  },
  {
   "cell_type": "markdown",
   "metadata": {},
   "source": [
    " 4) Can a python print function take no value to print???"
   ]
  },
  {
   "cell_type": "code",
   "execution_count": null,
   "metadata": {},
   "outputs": [],
   "source": [
    "# type your answer here\n",
    "object can be none, one, or many data values to be printed, and it can be of any data type. Objects get converted to a string before printing"
   ]
  },
  {
   "cell_type": "markdown",
   "metadata": {},
   "source": [
    "# TOPIC :Variables in Python Operators"
   ]
  },
  {
   "cell_type": "markdown",
   "metadata": {},
   "source": [
    "5) One of my friends name is Mr. Ahmed. He is 30 years old.  He is a lawer by profession. He has done his bachelors in law in the year 2005. He is working with a reputable law firm 'The Himalya Associates' in Karachi since 2015.\n",
    "He is a handsome lawer with height of 5.10 feets and weight 70600g. His monthly income is Rs. 200k PKR.\n",
    "\n",
    "Note: Create variables from above text and also assign values from the text.  "
   ]
  },
  {
   "cell_type": "code",
   "execution_count": 9,
   "metadata": {},
   "outputs": [],
   "source": [
    "#type your code here\n",
    "My_Friend_Name = \"Mr. Ahmed\"\n",
    "His_Age = 30\n",
    "Profession = \"Lawyer\"\n",
    "Qualification = \" Bachelors in Law\"\n",
    "graduation_year = 2005\n",
    "law_firm_name = \"The Himalya Associates\"\n",
    "firm_city = \"Karachi\"\n",
    "firm_joining_year = 2015\n",
    "height_in_ft = 5.10\n",
    "weight_in_g = 70600\n",
    "salary_in_pkr = 200000"
   ]
  },
  {
   "cell_type": "markdown",
   "metadata": {},
   "source": [
    "6)How many years has been to Mr. Ahmed after his bachelors degree? Create a variable that hold current year value and then subtract it from his passout year"
   ]
  },
  {
   "cell_type": "code",
   "execution_count": 10,
   "metadata": {},
   "outputs": [
    {
     "data": {
      "text/plain": [
       "17"
      ]
     },
     "execution_count": 10,
     "metadata": {},
     "output_type": "execute_result"
    }
   ],
   "source": [
    "#type your code here \n",
    "current_year = 2022\n",
    "total_years = current_year - graduation_year\n",
    "total_years\n"
   ]
  },
  {
   "cell_type": "markdown",
   "metadata": {},
   "source": [
    "7) How many years has Mr. Ahmed been working with law firm 'The Himalya Associates'. Create necesary variables and print the correct number of years in working in the firm"
   ]
  },
  {
   "cell_type": "code",
   "execution_count": 12,
   "metadata": {},
   "outputs": [
    {
     "name": "stdout",
     "output_type": "stream",
     "text": [
      "He has been woring for last 7 years, wth the law firm The Himalya Asscociates!\n"
     ]
    }
   ],
   "source": [
    "#type your code here \n",
    "Total_working_Experience = current_year - firm_joining_year\n",
    "print(f\"He has been woring for last {Total_working_Experience} years, wth the law firm The Himalya Asscociates!\")"
   ]
  },
  {
   "cell_type": "markdown",
   "metadata": {},
   "source": [
    "8)Convert the monthly income of Mr. Ahmed in dollars.  Create necesary variables and print the income in dollars."
   ]
  },
  {
   "cell_type": "code",
   "execution_count": 13,
   "metadata": {},
   "outputs": [
    {
     "name": "stdout",
     "output_type": "stream",
     "text": [
      "Monthly Income of Mr, Ahmed in Dollars is 904.9773755656108$\n"
     ]
    }
   ],
   "source": [
    "#type your code here \n",
    "Salary_Cerversion = salary_in_pkr/221\n",
    "print(f\"Monthly Income of Mr, Ahmed in Dollars is {Salary_Cerversion}$\")"
   ]
  },
  {
   "cell_type": "markdown",
   "metadata": {},
   "source": [
    "9) Check if the income in dollars is a float or integer value. if it is float, re-write the code so that income gets converted in integer. print the income in integer type value"
   ]
  },
  {
   "cell_type": "code",
   "execution_count": 14,
   "metadata": {},
   "outputs": [
    {
     "name": "stdout",
     "output_type": "stream",
     "text": [
      "Monthly Income of Mr, Ahmed in Dollars is 904$\n"
     ]
    }
   ],
   "source": [
    "#type your code here \n",
    "Salary_Cerversion = int(salary_in_pkr/221)\n",
    "print(f\"Monthly Income of Mr, Ahmed in Dollars is {Salary_Cerversion}$\")"
   ]
  },
  {
   "cell_type": "raw",
   "metadata": {},
   "source": [
    "10) Print the type of Mr. Ahmed's weight. Convert the weight of Mr. Ahmed in kg so that weight must be a integer value. "
   ]
  },
  {
   "cell_type": "code",
   "execution_count": 15,
   "metadata": {},
   "outputs": [
    {
     "name": "stdout",
     "output_type": "stream",
     "text": [
      " Mr.Ahmed weight is 70Kg\n"
     ]
    }
   ],
   "source": [
    "#type your code here \n",
    "Weight_Conversion = int(weight_in_g/1000)\n",
    "print(f\" Mr.Ahmed weight is {Weight_Conversion}Kg\")"
   ]
  },
  {
   "cell_type": "raw",
   "metadata": {},
   "source": [
    "11) print the year of birth of Mr. Ahmed."
   ]
  },
  {
   "cell_type": "code",
   "execution_count": 17,
   "metadata": {},
   "outputs": [
    {
     "name": "stdout",
     "output_type": "stream",
     "text": [
      "Mr. Ahmed Brith Year is 1992\n"
     ]
    }
   ],
   "source": [
    "#type your code here\n",
    "Year_of_Brith = int(current_year-His_Age)\n",
    "print(f\"Mr. Ahmed Brith Year is {Year_of_Brith}\")\n"
   ]
  },
  {
   "cell_type": "markdown",
   "metadata": {},
   "source": [
    "12) Can Rs. 100 be divided equally among 6 students? \n",
    "HINT: % operator"
   ]
  },
  {
   "cell_type": "code",
   "execution_count": 19,
   "metadata": {},
   "outputs": [
    {
     "name": "stdout",
     "output_type": "stream",
     "text": [
      "it cannot, remainder will be 4\n"
     ]
    }
   ],
   "source": [
    "#type your code here \n",
    "Modulo_Remainder = 100 % 6 \n",
    "print(f\"it cannot, remainder will be {Modulo_Remainder}\")"
   ]
  },
  {
   "cell_type": "code",
   "execution_count": null,
   "metadata": {},
   "outputs": [],
   "source": []
  }
 ],
 "metadata": {
  "kernelspec": {
   "display_name": "Python 3 (ipykernel)",
   "language": "python",
   "name": "python3"
  },
  "language_info": {
   "codemirror_mode": {
    "name": "ipython",
    "version": 3
   },
   "file_extension": ".py",
   "mimetype": "text/x-python",
   "name": "python",
   "nbconvert_exporter": "python",
   "pygments_lexer": "ipython3",
   "version": "3.9.12"
  }
 },
 "nbformat": 4,
 "nbformat_minor": 2
}
