{
 "cells": [
  {
   "cell_type": "markdown",
   "id": "f6519aad",
   "metadata": {},
   "source": [
    "# User input"
   ]
  },
  {
   "cell_type": "raw",
   "id": "948191fe",
   "metadata": {},
   "source": [
    "1. Take a sentence input from user using input function. Count occurence of a particular character/word in the sentence and print the message that the character appear this many times in the sentence.\n",
    "Like if user inputs> \"My name is Sana. I am an undergraduate student. I am learning Artificial Intellegence in PIAIC\"\n",
    "Your output should be:\n",
    "    I appears 5 times in your sentence\n",
    "Hint: nahi batounga use string methods.\n",
    "Note: Sana is a boy. His full name is SanaUllah😄"
   ]
  },
  {
   "cell_type": "code",
   "execution_count": 1,
   "id": "5603f490",
   "metadata": {},
   "outputs": [
    {
     "name": "stdout",
     "output_type": "stream",
     "text": [
      "Enter your Bio Data string: I am areeb, I am student of Class 6 and I work Hard to become programmer\n",
      "I alphabet is appear 3 times\n"
     ]
    }
   ],
   "source": [
    "user_input=input(\"Enter your Bio Data string: \")\n",
    "alphabet_counted = user_input.count(\"I\")\n",
    "print(f\"I alphabet is appear {alphabet_counted} times\" )\n"
   ]
  },
  {
   "cell_type": "raw",
   "id": "bf6c3672",
   "metadata": {},
   "source": [
    "2. Take a number input from user and print the square of that number. \n",
    "\n",
    "if a user inputs 10 Your output should be like:\n",
    "    The square of 10 is 100\n",
    "if a user inputs 5 Your output should be like:\n",
    "    The square of 5 is 25\n",
    "if a user inputs 2 Your output should be like:\n",
    "    The square of 2 is 4\n"
   ]
  },
  {
   "cell_type": "code",
   "execution_count": 2,
   "id": "018d1aaf",
   "metadata": {},
   "outputs": [
    {
     "name": "stdout",
     "output_type": "stream",
     "text": [
      "Enter any Number: 5\n",
      " Your input 5 numbers, square value is 25\n"
     ]
    }
   ],
   "source": [
    "Get_square_Value = int(input(\"Enter any Number: \"))\n",
    "print(f\" Your input {Get_square_Value} numbers, square value is {Get_square_Value**2}\")"
   ]
  },
  {
   "cell_type": "raw",
   "id": "0da0f529",
   "metadata": {},
   "source": [
    "3. Take two inputs from user using two input functions add these two numbers and print the result.\n",
    "For example if a user inputs 10 in first input, 20 in second input then your output mustbe like:\n",
    "    The sum of 10 and 20 is 30\n",
    "    \n",
    "For example if a user inputs 12 in first input, 30 in second input then your output mustbe like:\n",
    "    The sum of 12 and 30 is 42\n",
    "\n",
    "For example if a user inputs 100 in first input, 200 in second input then your out put mustbe like:\n",
    "    The sum of 100 and 200 is 300"
   ]
  },
  {
   "cell_type": "code",
   "execution_count": 3,
   "id": "ee16560a",
   "metadata": {},
   "outputs": [
    {
     "name": "stdout",
     "output_type": "stream",
     "text": [
      "Enter Number of Boys Student: 50\n",
      "Enter Number of Boys Student: 50\n",
      "The sum of Boys 50 and Girls 50 Students are 100\n"
     ]
    }
   ],
   "source": [
    "Boys_Student = int(input(\"Enter Number of Boys Student: \"))\n",
    "Girls_Student = int(input(\"Enter Number of Boys Student: \"))\n",
    "Total_Student = Boys_Student+Girls_Student\n",
    "print(f\"The sum of Boys {Boys_Student} and Girls {Girls_Student} Students are {Total_Student}\")"
   ]
  },
  {
   "cell_type": "raw",
   "id": "f957eb50",
   "metadata": {},
   "source": [
    "4. Format a string to display a card like string:\n",
    "    \n",
    "            Presidential Initiative for AI & Computing\n",
    "                          ID CARD\n",
    "            Student Name   : Asad Ali\n",
    "            Father Name    : Amjad Ali\n",
    "            Date of Birth  : 01-01-2000\n",
    "            Course Enrolled: Artificial Intelligence\n",
    "            Batch          : 2022\n",
    "            Day            : Saturday \n",
    "            Centre         : Sir Syed University of Engg and Technology\n",
    "                \n",
    "Note: all the field values must be taken as user inputs and stored in variable"
   ]
  },
  {
   "cell_type": "code",
   "execution_count": 4,
   "id": "0f2d4d2d",
   "metadata": {},
   "outputs": [
    {
     "name": "stdout",
     "output_type": "stream",
     "text": [
      "Enter your name: Hassan\n",
      "Enter your Father name: Ahmed\n",
      "Enter your date of Birth: 08-08-1980\n",
      "Enter Course Name: Artificial Intelligence\n",
      "Enter Batch Year: 2022\n",
      "Enter Class Day: Saturday\n",
      "Enter Center Name: Sir Syed University of Engg and Technology\n",
      " \n",
      " \n",
      " \t Presidential Initiative for AI & Computing\n",
      "                          ID CARD\n",
      "            Student Name   : Hassan\n",
      "            Father Name    : Ahmed\n",
      "            Date of Birth  : 08-08-1980\n",
      "            Course Enrolled: Artificial Intelligence\n",
      "            Batch          : 2022\n",
      "            Day            : Saturday\n",
      "            Centre         : Sir Syed University of Engg and Technology\n",
      "      \n"
     ]
    }
   ],
   "source": [
    "Student_name = input(\"Enter your name: \")\n",
    "Father_name = input(\"Enter your Father name: \")\n",
    "D_O_B = input(\"Enter your date of Birth: \")\n",
    "Course_Enrolled = input(\"Enter Course Name: \")\n",
    "Batch_Year = input(\"Enter Batch Year: \")\n",
    "Class_Day = input(\"Enter Class Day: \")\n",
    "Center_Name = input(\"Enter Center Name: \")\n",
    "\n",
    "print(f''' \\n \\n \\t Presidential Initiative for AI & Computing\n",
    "                          ID CARD\n",
    "            Student Name   : {Student_name}\n",
    "            Father Name    : {Father_name}\n",
    "            Date of Birth  : {D_O_B}\n",
    "            Course Enrolled: {Course_Enrolled}\n",
    "            Batch          : {Batch_Year}\n",
    "            Day            : {Class_Day}\n",
    "            Centre         : {Center_Name}\n",
    "      ''')"
   ]
  },
  {
   "cell_type": "code",
   "execution_count": null,
   "id": "c530977a",
   "metadata": {},
   "outputs": [],
   "source": []
  }
 ],
 "metadata": {
  "kernelspec": {
   "display_name": "Python 3 (ipykernel)",
   "language": "python",
   "name": "python3"
  },
  "language_info": {
   "codemirror_mode": {
    "name": "ipython",
    "version": 3
   },
   "file_extension": ".py",
   "mimetype": "text/x-python",
   "name": "python",
   "nbconvert_exporter": "python",
   "pygments_lexer": "ipython3",
   "version": "3.9.12"
  }
 },
 "nbformat": 4,
 "nbformat_minor": 5
}
